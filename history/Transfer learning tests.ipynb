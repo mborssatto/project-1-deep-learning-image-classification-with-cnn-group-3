{
 "cells": [
  {
   "metadata": {},
   "cell_type": "markdown",
   "source": "# Image classification with transfer learning",
   "id": "8f50a9f66adbfc04"
  },
  {
   "metadata": {
    "collapsed": true,
    "colab": {
     "base_uri": "https://localhost:8080/"
    },
    "id": "initial_id",
    "outputId": "52508bd6-9251-4127-e5f2-400307236a13"
   },
   "cell_type": "code",
   "source": [
    "import numpy as np\n",
    "from tensorflow import keras\n",
    "from tensorflow.keras import layers\n",
    "\n",
    "#Importing dataset from CIFAR\n",
    "from tensorflow.keras.datasets import cifar10\n",
    "from sklearn.model_selection import train_test_split\n",
    "\n",
    "\n",
    "# Load CIFAR-10 dataset.\n",
    "# We are naming the test part as holdout for now so that we can later split it into validation and test data.\n",
    "(x_train, y_train), (x_holdout, y_holdout) = cifar10.load_data()"
   ],
   "id": "53ded9d92832209a",
   "outputs": [],
   "execution_count": null
  },
  {
   "metadata": {
    "colab": {
     "base_uri": "https://localhost:8080/"
    },
    "id": "xTo0Np-o_SQn",
    "outputId": "0507e15f-dd7c-4e29-d66d-a31057c76038"
   },
   "cell_type": "code",
   "source": [
    "print(\"x_train shape:\", x_train.shape)\n",
    "print(x_train.shape[0], \"train samples\")\n",
    "print(y_train.shape[0], \"train labels\")\n",
    "print(x_holdout.shape[0], \"test samples\")\n",
    "print(y_holdout.shape[0], \"test labels\")"
   ],
   "id": "185fd38539db54fb",
   "outputs": [],
   "execution_count": null
  },
  {
   "metadata": {
    "colab": {
     "base_uri": "https://localhost:8080/"
    },
    "id": "02hFJbcH8tiH",
    "outputId": "dedea18c-56cc-4b5c-ffe9-3e197467f8e3"
   },
   "cell_type": "code",
   "source": [
    "#Holding out data for test validation, ensuring a consistent split across classes with stratify\n",
    "# We are getting 50% of the holdout data (test_size=0.50), which was already 20% of the entire dataset.\n",
    "\n",
    "x_test, x_val, y_test, y_val = train_test_split(\n",
    "    x_holdout, y_holdout, test_size=0.50, stratify=y_holdout, random_state=42\n",
    ")\n",
    "\n",
    "print(\"x_train shape:\", x_train.shape)\n",
    "print(x_train.shape[0], \"train samples\")\n",
    "print(x_val.shape[0], \"validation samples\")\n",
    "print(x_test.shape[0], \"test samples\")"
   ],
   "id": "37d5facb6404ed1c",
   "outputs": [],
   "execution_count": null
  },
  {
   "metadata": {
    "colab": {
     "base_uri": "https://localhost:8080/",
     "height": 1000
    },
    "id": "LAAeDQTP_7jO",
    "outputId": "420999f7-ddaa-4723-deaa-170d12ff7594"
   },
   "cell_type": "code",
   "source": [
    "#Visualize: 10×10 grid, 10 random samples per class to make sure we have all classes represented\n",
    "import matplotlib.pyplot as plt\n",
    "\n",
    "class_names = [\"airplane\",\"automobile\",\"bird\",\"cat\",\"deer\",\n",
    "               \"dog\",\"frog\",\"horse\",\"ship\",\"truck\"]\n",
    "y_val_f = y_val.flatten()\n",
    "fig, axes = plt.subplots(10, 10, figsize=(10, 10))\n",
    "for cls in range(10):\n",
    "    idxs = np.where(y_val_f == cls)[0]\n",
    "    sel = np.random.choice(idxs, 10, replace=False)\n",
    "    for j, idx in enumerate(sel):\n",
    "        ax = axes[cls, j]\n",
    "        ax.imshow(x_val[idx])\n",
    "        ax.axis(\"off\")\n",
    "plt.tight_layout()\n",
    "plt.show()"
   ],
   "id": "1b42d74b535b0ae7",
   "outputs": [],
   "execution_count": null
  },
  {
   "metadata": {
    "id": "ybCeahZeRzNy"
   },
   "cell_type": "code",
   "source": [
    "\"\"\"\n",
    "## Prepare the data\n",
    "\"\"\"\n",
    "\n",
    "# Model / data parameters\n",
    "num_classes = 10\n",
    "input_shape = (32, 32, 3)\n",
    "\n",
    "# Scale images to the [0, 1] range\n",
    "x_train = x_train.astype(\"float32\") / 255\n",
    "x_val = x_val.astype(\"float32\") / 255\n",
    "x_test = x_test.astype(\"float32\") / 255"
   ],
   "id": "9367537586152860",
   "outputs": [],
   "execution_count": null
  },
  {
   "metadata": {
    "id": "i52IWTZHTej9"
   },
   "cell_type": "code",
   "source": [
    "# convert classes into categories\n",
    "from tensorflow.keras.utils import to_categorical\n",
    "\n",
    "y_train_cat = to_categorical(y_train, num_classes)\n",
    "y_val_cat = to_categorical(y_val, num_classes)\n",
    "y_test_cat  = to_categorical(y_test,  num_classes)"
   ],
   "id": "3d56960e9ba3f5de",
   "outputs": [],
   "execution_count": null
  },
  {
   "metadata": {
    "id": "AYqgwzYlHFbq"
   },
   "cell_type": "code",
   "source": [
    "##block of code used to clear keras sessions during development\n",
    "\n",
    "#from keras.backend import clear_session\n",
    "#clear_session()"
   ],
   "id": "6548f999e5006af2",
   "outputs": [],
   "execution_count": null
  },
  {
   "metadata": {},
   "cell_type": "markdown",
   "source": "## Transfer Learning implementation",
   "id": "356f7ae8fe1cd0e5"
  },
  {
   "cell_type": "code",
   "source": [
    "import matplotlib.pyplot as plt\n",
    "import numpy as np\n",
    "import os\n",
    "import tensorflow as tf\n",
    "from tensorflow import keras\n",
    "from tensorflow.keras import layers\n",
    "from keras.layers import\n"
   ],
   "metadata": {
    "id": "pnMrWOxGks-6"
   },
   "id": "pnMrWOxGks-6",
   "outputs": [],
   "execution_count": null
  },
  {
   "cell_type": "markdown",
   "source": [
    "Re-scaling pixel values for TL"
   ],
   "metadata": {
    "id": "gnZmQVTNmau2"
   },
   "id": "gnZmQVTNmau2"
  },
  {
   "cell_type": "code",
   "source": [
    "preprocess_input = tf.keras.applications.mobilenet_v2.preprocess_input\n",
    "rescale = tf.keras.layers.Rescaling(1./127.5, offset=-1)\n",
    "\n",
    "IMG_SHAPE = (32,32,3)\n",
    "base_model = tf.keras.applications.MobileNetV2(input_shape=IMG_SHAPE,\n",
    "                                               include_top=False,\n",
    "                                               weights='imagenet')\n",
    "\n",
    ""
   ],
   "metadata": {
    "id": "XBNLm_5YmZQ3",
    "outputId": "bb8dc067-a0ec-4ac1-fb5b-bace269da7f1",
    "colab": {
     "base_uri": "https://localhost:8080/"
    }
   },
   "id": "XBNLm_5YmZQ3",
   "outputs": [],
   "execution_count": null
  },
  {
   "cell_type": "code",
   "source": [
    "base_model.trainable = False"
   ],
   "metadata": {
    "id": "vt7m-PMenPdL"
   },
   "id": "vt7m-PMenPdL",
   "outputs": [],
   "execution_count": null
  },
  {
   "cell_type": "code",
   "source": [
    "#Add a classification head\n",
    "\n",
    "global_average_layer = tf.keras.layers.GlobalAveragePooling2D()\n",
    "feature_batch_average = global_average_layer(x_train)\n",
    "print(feature_batch_average.shape)"
   ],
   "metadata": {
    "id": "KkVXDnlLoktM",
    "outputId": "e9301a07-8617-46fa-c6b3-c5e1fa7064cf",
    "colab": {
     "base_uri": "https://localhost:8080/"
    }
   },
   "id": "KkVXDnlLoktM",
   "outputs": [],
   "execution_count": null
  },
  {
   "cell_type": "code",
   "source": [
    "prediction_layer = tf.keras.layers.Dense(1, activation='sigmoid')\n",
    "prediction_batch = prediction_layer(feature_batch_average)\n",
    "print(prediction_batch.shape)"
   ],
   "metadata": {
    "id": "klCher4ZpKij",
    "outputId": "eac4e146-5fd9-4112-e121-559039ea7197",
    "colab": {
     "base_uri": "https://localhost:8080/"
    }
   },
   "id": "klCher4ZpKij",
   "outputs": [],
   "execution_count": null
  },
  {
   "cell_type": "code",
   "source": [
    "#data_augmentation = tf.keras.Sequential([\n",
    "#    tf.keras.layers.RandomFlip('horizontal'),\n",
    "#    tf.keras.layers.RandomRotation(0.2),\n",
    "#])\n",
    "\n",
    "\n",
    "inputs = tf.keras.Input(shape=(32, 32, 3))\n",
    "#x = data_augmentation(x_train)\n",
    "x = preprocess_input(x_train)\n",
    "x = base_model(x, training=False)\n",
    "x = global_average_layer(x)\n",
    "x = tf.keras.layers.Dropout(0.2)(x)\n",
    "outputs = prediction_layer(x)\n",
    "model = tf.keras.Model(inputs, outputs)"
   ],
   "metadata": {
    "id": "22r5-3KSpTDk",
    "outputId": "50e0023b-b01f-463d-8331-19bcaf8068b6",
    "colab": {
     "base_uri": "https://localhost:8080/",
     "height": 1000
    }
   },
   "id": "22r5-3KSpTDk",
   "outputs": [],
   "execution_count": null
  },
  {
   "cell_type": "code",
   "source": [
    "scale_layer = keras.layers.Rescaling(scale=1 / 127.5, offset=-1)\n",
    "x = scale_layer(x)"
   ],
   "metadata": {
    "id": "CfkkmyMAr0sm",
    "outputId": "82da2e30-0ff1-4984-fbde-6391981de21e",
    "colab": {
     "base_uri": "https://localhost:8080/",
     "height": 408
    }
   },
   "id": "CfkkmyMAr0sm",
   "outputs": [],
   "execution_count": null
  }
 ],
 "metadata": {
  "kernelspec": {
   "display_name": "Python 3 (ipykernel)",
   "name": "python3",
   "language": "python"
  },
  "language_info": {
   "codemirror_mode": {
    "name": "ipython",
    "version": 2
   },
   "file_extension": ".py",
   "mimetype": "text/x-python",
   "name": "python",
   "nbconvert_exporter": "python",
   "pygments_lexer": "ipython2",
   "version": "2.7.6"
  },
  "colab": {
   "provenance": [],
   "gpuType": "T4"
  },
  "accelerator": "GPU"
 },
 "nbformat": 4,
 "nbformat_minor": 5
}
